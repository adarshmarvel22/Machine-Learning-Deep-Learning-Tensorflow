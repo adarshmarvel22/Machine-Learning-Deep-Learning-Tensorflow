{
  "cells": [
    {
      "cell_type": "markdown",
      "metadata": {
        "id": "1WZXChED5t1q"
      },
      "source": [
        "Q1: Install and load the latest versions of TensorFlow and Keras. Print their versions."
      ]
    },
    {
      "cell_type": "code",
      "execution_count": 1,
      "metadata": {
        "colab": {
          "base_uri": "https://localhost:8080/"
        },
        "id": "PW9FvDZR5ugR",
        "outputId": "a1d3793b-5b43-441b-c4a6-cee13114ecea"
      },
      "outputs": [
        {
          "name": "stdout",
          "output_type": "stream",
          "text": [
            "Requirement already satisfied: tensorflow in /usr/local/lib/python3.10/dist-packages (2.12.0)\n",
            "Requirement already satisfied: absl-py>=1.0.0 in /usr/local/lib/python3.10/dist-packages (from tensorflow) (1.4.0)\n",
            "Requirement already satisfied: astunparse>=1.6.0 in /usr/local/lib/python3.10/dist-packages (from tensorflow) (1.6.3)\n",
            "Requirement already satisfied: flatbuffers>=2.0 in /usr/local/lib/python3.10/dist-packages (from tensorflow) (23.5.26)\n",
            "Requirement already satisfied: gast<=0.4.0,>=0.2.1 in /usr/local/lib/python3.10/dist-packages (from tensorflow) (0.4.0)\n",
            "Requirement already satisfied: google-pasta>=0.1.1 in /usr/local/lib/python3.10/dist-packages (from tensorflow) (0.2.0)\n",
            "Requirement already satisfied: grpcio<2.0,>=1.24.3 in /usr/local/lib/python3.10/dist-packages (from tensorflow) (1.57.0)\n",
            "Requirement already satisfied: h5py>=2.9.0 in /usr/local/lib/python3.10/dist-packages (from tensorflow) (3.9.0)\n",
            "Requirement already satisfied: jax>=0.3.15 in /usr/local/lib/python3.10/dist-packages (from tensorflow) (0.4.14)\n",
            "Requirement already satisfied: keras<2.13,>=2.12.0 in /usr/local/lib/python3.10/dist-packages (from tensorflow) (2.12.0)\n",
            "Requirement already satisfied: libclang>=13.0.0 in /usr/local/lib/python3.10/dist-packages (from tensorflow) (16.0.6)\n",
            "Requirement already satisfied: numpy<1.24,>=1.22 in /usr/local/lib/python3.10/dist-packages (from tensorflow) (1.23.5)\n",
            "Requirement already satisfied: opt-einsum>=2.3.2 in /usr/local/lib/python3.10/dist-packages (from tensorflow) (3.3.0)\n",
            "Requirement already satisfied: packaging in /usr/local/lib/python3.10/dist-packages (from tensorflow) (23.1)\n",
            "Requirement already satisfied: protobuf!=4.21.0,!=4.21.1,!=4.21.2,!=4.21.3,!=4.21.4,!=4.21.5,<5.0.0dev,>=3.20.3 in /usr/local/lib/python3.10/dist-packages (from tensorflow) (3.20.3)\n",
            "Requirement already satisfied: setuptools in /usr/local/lib/python3.10/dist-packages (from tensorflow) (67.7.2)\n",
            "Requirement already satisfied: six>=1.12.0 in /usr/local/lib/python3.10/dist-packages (from tensorflow) (1.16.0)\n",
            "Requirement already satisfied: tensorboard<2.13,>=2.12 in /usr/local/lib/python3.10/dist-packages (from tensorflow) (2.12.3)\n",
            "Requirement already satisfied: tensorflow-estimator<2.13,>=2.12.0 in /usr/local/lib/python3.10/dist-packages (from tensorflow) (2.12.0)\n",
            "Requirement already satisfied: termcolor>=1.1.0 in /usr/local/lib/python3.10/dist-packages (from tensorflow) (2.3.0)\n",
            "Requirement already satisfied: typing-extensions>=3.6.6 in /usr/local/lib/python3.10/dist-packages (from tensorflow) (4.7.1)\n",
            "Requirement already satisfied: wrapt<1.15,>=1.11.0 in /usr/local/lib/python3.10/dist-packages (from tensorflow) (1.14.1)\n",
            "Requirement already satisfied: tensorflow-io-gcs-filesystem>=0.23.1 in /usr/local/lib/python3.10/dist-packages (from tensorflow) (0.33.0)\n",
            "Requirement already satisfied: wheel<1.0,>=0.23.0 in /usr/local/lib/python3.10/dist-packages (from astunparse>=1.6.0->tensorflow) (0.41.2)\n",
            "Requirement already satisfied: ml-dtypes>=0.2.0 in /usr/local/lib/python3.10/dist-packages (from jax>=0.3.15->tensorflow) (0.2.0)\n",
            "Requirement already satisfied: scipy>=1.7 in /usr/local/lib/python3.10/dist-packages (from jax>=0.3.15->tensorflow) (1.10.1)\n",
            "Requirement already satisfied: google-auth<3,>=1.6.3 in /usr/local/lib/python3.10/dist-packages (from tensorboard<2.13,>=2.12->tensorflow) (2.17.3)\n",
            "Requirement already satisfied: google-auth-oauthlib<1.1,>=0.5 in /usr/local/lib/python3.10/dist-packages (from tensorboard<2.13,>=2.12->tensorflow) (1.0.0)\n",
            "Requirement already satisfied: markdown>=2.6.8 in /usr/local/lib/python3.10/dist-packages (from tensorboard<2.13,>=2.12->tensorflow) (3.4.4)\n",
            "Requirement already satisfied: requests<3,>=2.21.0 in /usr/local/lib/python3.10/dist-packages (from tensorboard<2.13,>=2.12->tensorflow) (2.31.0)\n",
            "Requirement already satisfied: tensorboard-data-server<0.8.0,>=0.7.0 in /usr/local/lib/python3.10/dist-packages (from tensorboard<2.13,>=2.12->tensorflow) (0.7.1)\n",
            "Requirement already satisfied: werkzeug>=1.0.1 in /usr/local/lib/python3.10/dist-packages (from tensorboard<2.13,>=2.12->tensorflow) (2.3.7)\n",
            "Requirement already satisfied: cachetools<6.0,>=2.0.0 in /usr/local/lib/python3.10/dist-packages (from google-auth<3,>=1.6.3->tensorboard<2.13,>=2.12->tensorflow) (5.3.1)\n",
            "Requirement already satisfied: pyasn1-modules>=0.2.1 in /usr/local/lib/python3.10/dist-packages (from google-auth<3,>=1.6.3->tensorboard<2.13,>=2.12->tensorflow) (0.3.0)\n",
            "Requirement already satisfied: rsa<5,>=3.1.4 in /usr/local/lib/python3.10/dist-packages (from google-auth<3,>=1.6.3->tensorboard<2.13,>=2.12->tensorflow) (4.9)\n",
            "Requirement already satisfied: requests-oauthlib>=0.7.0 in /usr/local/lib/python3.10/dist-packages (from google-auth-oauthlib<1.1,>=0.5->tensorboard<2.13,>=2.12->tensorflow) (1.3.1)\n",
            "Requirement already satisfied: charset-normalizer<4,>=2 in /usr/local/lib/python3.10/dist-packages (from requests<3,>=2.21.0->tensorboard<2.13,>=2.12->tensorflow) (3.2.0)\n",
            "Requirement already satisfied: idna<4,>=2.5 in /usr/local/lib/python3.10/dist-packages (from requests<3,>=2.21.0->tensorboard<2.13,>=2.12->tensorflow) (3.4)\n",
            "Requirement already satisfied: urllib3<3,>=1.21.1 in /usr/local/lib/python3.10/dist-packages (from requests<3,>=2.21.0->tensorboard<2.13,>=2.12->tensorflow) (2.0.4)\n",
            "Requirement already satisfied: certifi>=2017.4.17 in /usr/local/lib/python3.10/dist-packages (from requests<3,>=2.21.0->tensorboard<2.13,>=2.12->tensorflow) (2023.7.22)\n",
            "Requirement already satisfied: MarkupSafe>=2.1.1 in /usr/local/lib/python3.10/dist-packages (from werkzeug>=1.0.1->tensorboard<2.13,>=2.12->tensorflow) (2.1.3)\n",
            "Requirement already satisfied: pyasn1<0.6.0,>=0.4.6 in /usr/local/lib/python3.10/dist-packages (from pyasn1-modules>=0.2.1->google-auth<3,>=1.6.3->tensorboard<2.13,>=2.12->tensorflow) (0.5.0)\n",
            "Requirement already satisfied: oauthlib>=3.0.0 in /usr/local/lib/python3.10/dist-packages (from requests-oauthlib>=0.7.0->google-auth-oauthlib<1.1,>=0.5->tensorboard<2.13,>=2.12->tensorflow) (3.2.2)\n",
            "Requirement already satisfied: keras in /usr/local/lib/python3.10/dist-packages (2.12.0)\n",
            "TensorFlow version: 2.12.0\n",
            "Keras version: 2.12.0\n"
          ]
        }
      ],
      "source": [
        "# Install the latest versions of TensorFlow and Keras\n",
        "!pip install tensorflow\n",
        "!pip install keras\n",
        "\n",
        "# Import TensorFlow and Keras\n",
        "import tensorflow as tf\n",
        "from tensorflow import keras\n",
        "\n",
        "# Print their versions\n",
        "print(\"TensorFlow version:\", tf.__version__)\n",
        "print(\"Keras version:\", keras.__version__)"
      ]
    },
    {
      "cell_type": "markdown",
      "metadata": {
        "id": "BnOaa9ZA5w8y"
      },
      "source": [
        "Q2: Load the Wine Quality dataset and explore its dimensions."
      ]
    },
    {
      "cell_type": "code",
      "execution_count": 2,
      "metadata": {
        "colab": {
          "base_uri": "https://localhost:8080/"
        },
        "id": "JQQ-heQV5zvO",
        "outputId": "7e242b34-df73-46e1-93bf-06d01de47ff3"
      },
      "outputs": [
        {
          "name": "stdout",
          "output_type": "stream",
          "text": [
            "Shape of the dataset: (4898, 12)\n"
          ]
        }
      ],
      "source": [
        "import pandas as pd\n",
        "\n",
        "# Download the dataset\n",
        "wine_data_url = \"https://archive.ics.uci.edu/ml/machine-learning-databases/wine-quality/winequality-white.csv\"\n",
        "wine_data = pd.read_csv(wine_data_url, sep=\";\")\n",
        "\n",
        "# Explore the dimensions of the dataset\n",
        "print(\"Shape of the dataset:\", wine_data.shape)"
      ]
    },
    {
      "cell_type": "markdown",
      "metadata": {
        "id": "QA1Ve1QO567G"
      },
      "source": [
        "Q3: Check for null values, identify categorical variables, and encode them."
      ]
    },
    {
      "cell_type": "code",
      "execution_count": 3,
      "metadata": {
        "colab": {
          "base_uri": "https://localhost:8080/"
        },
        "id": "SBEA7KWL5-gW",
        "outputId": "f16eb088-6bb2-491d-c798-8947f0b79959"
      },
      "outputs": [
        {
          "name": "stdout",
          "output_type": "stream",
          "text": [
            "Null values:\n",
            " fixed acidity           0\n",
            "volatile acidity        0\n",
            "citric acid             0\n",
            "residual sugar          0\n",
            "chlorides               0\n",
            "free sulfur dioxide     0\n",
            "total sulfur dioxide    0\n",
            "density                 0\n",
            "pH                      0\n",
            "sulphates               0\n",
            "alcohol                 0\n",
            "quality                 0\n",
            "dtype: int64\n",
            "Categorical variables:\n",
            " Index([], dtype='object')\n"
          ]
        }
      ],
      "source": [
        "# Check for null values\n",
        "null_values = wine_data.isnull().sum()\n",
        "print(\"Null values:\\n\", null_values)\n",
        "\n",
        "# Identify categorical variables (assuming all non-numeric variables are categorical)\n",
        "categorical_columns = wine_data.select_dtypes(include=['object']).columns\n",
        "print(\"Categorical variables:\\n\", categorical_columns)\n",
        "\n",
        "# Encode categorical variables (if needed)\n",
        "# If there are categorical variables, we can encode them using one-hot encoding or label encoding.\n",
        "# using one-hot encoding:\n",
        "wine_data_encoded = pd.get_dummies(wine_data, columns=categorical_columns)"
      ]
    },
    {
      "cell_type": "markdown",
      "metadata": {
        "id": "3IFPSV3r6CWR"
      },
      "source": [
        "Q4: Separate the features and target variables from the dataframe."
      ]
    },
    {
      "cell_type": "code",
      "execution_count": 4,
      "metadata": {
        "id": "umDC2hxB6ElX"
      },
      "outputs": [],
      "source": [
        "# the target variable is 'quality'\n",
        "X = wine_data_encoded.drop(columns=['quality'])  # Features\n",
        "y = wine_data_encoded['quality']  # Target variable"
      ]
    },
    {
      "cell_type": "markdown",
      "metadata": {
        "id": "jIAqlMT46HHw"
      },
      "source": [
        "Q5: Perform a train-test split and divide the data into training, validation, and test datasets."
      ]
    },
    {
      "cell_type": "code",
      "execution_count": 5,
      "metadata": {
        "colab": {
          "base_uri": "https://localhost:8080/"
        },
        "id": "q5p4Cndf6IEe",
        "outputId": "47e01a69-fe97-4278-ecd4-134947bea5d8"
      },
      "outputs": [
        {
          "name": "stdout",
          "output_type": "stream",
          "text": [
            "Training data shape: (3428, 11) (3428,)\n",
            "Validation data shape: (735, 11) (735,)\n",
            "Test data shape: (735, 11) (735,)\n"
          ]
        }
      ],
      "source": [
        "from sklearn.model_selection import train_test_split\n",
        "\n",
        "# Split the data into training (70%), validation (15%), and test (15%) sets\n",
        "X_train, X_temp, y_train, y_temp = train_test_split(X, y, test_size=0.3, random_state=42)\n",
        "X_val, X_test, y_val, y_test = train_test_split(X_temp, y_temp, test_size=0.5, random_state=42)\n",
        "\n",
        "# Print the shapes of the resulting datasets\n",
        "print(\"Training data shape:\", X_train.shape, y_train.shape)\n",
        "print(\"Validation data shape:\", X_val.shape, y_val.shape)\n",
        "print(\"Test data shape:\", X_test.shape, y_test.shape)"
      ]
    },
    {
      "cell_type": "markdown",
      "metadata": {
        "id": "wUfpxujL6Piv"
      },
      "source": [
        "Q6: Perform scaling on the dataset."
      ]
    },
    {
      "cell_type": "code",
      "execution_count": 6,
      "metadata": {
        "id": "Fmsm9xsy6RjO"
      },
      "outputs": [],
      "source": [
        "from sklearn.preprocessing import StandardScaler\n",
        "\n",
        "# Initialize the StandardScaler\n",
        "scaler = StandardScaler()\n",
        "\n",
        "# Fit and transform the scaler on the training data\n",
        "X_train_scaled = scaler.fit_transform(X_train)\n",
        "\n",
        "# Transform the validation and test data using the same scaler\n",
        "X_val_scaled = scaler.transform(X_val)\n",
        "X_test_scaled = scaler.transform(X_test)"
      ]
    },
    {
      "cell_type": "markdown",
      "metadata": {
        "id": "YnB9LODq6VFQ"
      },
      "source": [
        "Q7: Create at least 2 hidden layers and an output layer for the binary categorical variables."
      ]
    },
    {
      "cell_type": "code",
      "execution_count": 7,
      "metadata": {
        "id": "ZNYUVAok6WjB"
      },
      "outputs": [],
      "source": [
        "from tensorflow import keras\n",
        "\n",
        "# Create a Sequential model\n",
        "model = keras.Sequential()\n",
        "\n",
        "# Add the input layer (input_shape should match the number of features)\n",
        "model.add(keras.layers.InputLayer(input_shape=(X_train_scaled.shape[1],)))\n",
        "\n",
        "# Add hidden layers\n",
        "model.add(keras.layers.Dense(64, activation='relu'))\n",
        "model.add(keras.layers.Dense(32, activation='relu'))\n",
        "\n",
        "# Add the output layer for binary classification (1 neuron, sigmoid activation)\n",
        "model.add(keras.layers.Dense(1, activation='sigmoid'))"
      ]
    },
    {
      "cell_type": "markdown",
      "metadata": {
        "id": "ENuwvn4o6ZPc"
      },
      "source": [
        "Q8: Create a Sequential model and add all the layers to it."
      ]
    },
    {
      "cell_type": "code",
      "execution_count": null,
      "metadata": {
        "id": "tq5_yj8u6bfC"
      },
      "outputs": [],
      "source": [
        "# We've already added the layers to the Sequential model in the previous code snippet.\n",
        "# We can add other layers or modify the architecture as needed."
      ]
    },
    {
      "cell_type": "markdown",
      "metadata": {
        "id": "DHVgHfOa6iGV"
      },
      "source": [
        "Q9: Implement a TensorBoard callback to visualize and monitor the model's training process."
      ]
    },
    {
      "cell_type": "code",
      "execution_count": 8,
      "metadata": {
        "colab": {
          "base_uri": "https://localhost:8080/"
        },
        "id": "qy7eZP-c6kWi",
        "outputId": "1941eccd-4bf1-46fd-a386-815546ee4b96"
      },
      "outputs": [
        {
          "name": "stdout",
          "output_type": "stream",
          "text": [
            "Epoch 1/20\n",
            "108/108 [==============================] - 1s 4ms/step - loss: -35.0018 - accuracy: 0.0000e+00 - val_loss: -114.1535 - val_accuracy: 0.0000e+00\n",
            "Epoch 2/20\n",
            "108/108 [==============================] - 0s 2ms/step - loss: -386.5226 - accuracy: 0.0000e+00 - val_loss: -822.9266 - val_accuracy: 0.0000e+00\n",
            "Epoch 3/20\n",
            "108/108 [==============================] - 0s 2ms/step - loss: -1730.1322 - accuracy: 0.0000e+00 - val_loss: -2903.5159 - val_accuracy: 0.0000e+00\n",
            "Epoch 4/20\n",
            "108/108 [==============================] - 0s 2ms/step - loss: -4862.2373 - accuracy: 0.0000e+00 - val_loss: -7122.5552 - val_accuracy: 0.0000e+00\n",
            "Epoch 5/20\n",
            "108/108 [==============================] - 0s 2ms/step - loss: -10540.4053 - accuracy: 0.0000e+00 - val_loss: -14258.8057 - val_accuracy: 0.0000e+00\n",
            "Epoch 6/20\n",
            "108/108 [==============================] - 0s 2ms/step - loss: -19586.4824 - accuracy: 0.0000e+00 - val_loss: -25028.2422 - val_accuracy: 0.0000e+00\n",
            "Epoch 7/20\n",
            "108/108 [==============================] - 0s 2ms/step - loss: -32631.3027 - accuracy: 0.0000e+00 - val_loss: -40044.7148 - val_accuracy: 0.0000e+00\n",
            "Epoch 8/20\n",
            "108/108 [==============================] - 0s 2ms/step - loss: -50142.5859 - accuracy: 0.0000e+00 - val_loss: -59664.5156 - val_accuracy: 0.0000e+00\n",
            "Epoch 9/20\n",
            "108/108 [==============================] - 0s 2ms/step - loss: -72719.0078 - accuracy: 0.0000e+00 - val_loss: -84515.0547 - val_accuracy: 0.0000e+00\n",
            "Epoch 10/20\n",
            "108/108 [==============================] - 0s 2ms/step - loss: -101123.7969 - accuracy: 0.0000e+00 - val_loss: -115462.0391 - val_accuracy: 0.0000e+00\n",
            "Epoch 11/20\n",
            "108/108 [==============================] - 0s 2ms/step - loss: -135635.9844 - accuracy: 0.0000e+00 - val_loss: -152662.6562 - val_accuracy: 0.0000e+00\n",
            "Epoch 12/20\n",
            "108/108 [==============================] - 0s 2ms/step - loss: -176759.1719 - accuracy: 0.0000e+00 - val_loss: -196321.5312 - val_accuracy: 0.0000e+00\n",
            "Epoch 13/20\n",
            "108/108 [==============================] - 0s 2ms/step - loss: -224647.3594 - accuracy: 0.0000e+00 - val_loss: -246897.2031 - val_accuracy: 0.0000e+00\n",
            "Epoch 14/20\n",
            "108/108 [==============================] - 0s 2ms/step - loss: -279550.9062 - accuracy: 0.0000e+00 - val_loss: -304482.2500 - val_accuracy: 0.0000e+00\n",
            "Epoch 15/20\n",
            "108/108 [==============================] - 0s 2ms/step - loss: -341718.8438 - accuracy: 0.0000e+00 - val_loss: -369231.5312 - val_accuracy: 0.0000e+00\n",
            "Epoch 16/20\n",
            "108/108 [==============================] - 0s 2ms/step - loss: -411291.7500 - accuracy: 0.0000e+00 - val_loss: -441302.5625 - val_accuracy: 0.0000e+00\n",
            "Epoch 17/20\n",
            "108/108 [==============================] - 0s 2ms/step - loss: -488487.0938 - accuracy: 0.0000e+00 - val_loss: -521056.6562 - val_accuracy: 0.0000e+00\n",
            "Epoch 18/20\n",
            "108/108 [==============================] - 0s 2ms/step - loss: -573634.3750 - accuracy: 0.0000e+00 - val_loss: -609193.3750 - val_accuracy: 0.0000e+00\n",
            "Epoch 19/20\n",
            "108/108 [==============================] - 0s 2ms/step - loss: -667021.4375 - accuracy: 0.0000e+00 - val_loss: -704831.5625 - val_accuracy: 0.0000e+00\n",
            "Epoch 20/20\n",
            "108/108 [==============================] - 0s 2ms/step - loss: -769097.5000 - accuracy: 0.0000e+00 - val_loss: -809225.3750 - val_accuracy: 0.0000e+00\n"
          ]
        }
      ],
      "source": [
        "# Import TensorBoard\n",
        "from tensorflow.keras.callbacks import TensorBoard\n",
        "\n",
        "# Specify the log directory for TensorBoard\n",
        "log_dir = \"logs/fit/\"\n",
        "\n",
        "# Create a TensorBoard callback\n",
        "tensorboard_callback = TensorBoard(log_dir=log_dir, histogram_freq=1)\n",
        "\n",
        "# Compile the model\n",
        "model.compile(optimizer='adam', loss='binary_crossentropy', metrics=['accuracy'])\n",
        "\n",
        "# Train the model with the TensorBoard callback\n",
        "history = model.fit(X_train_scaled, y_train, epochs=20, validation_data=(X_val_scaled, y_val), callbacks=[tensorboard_callback])"
      ]
    },
    {
      "cell_type": "markdown",
      "metadata": {
        "id": "sRr6KjNk6nWI"
      },
      "source": [
        "Q10: Use Early Stopping to prevent overfitting by monitoring a chosen metric and stopping the training if no improvement is observed."
      ]
    },
    {
      "cell_type": "code",
      "execution_count": 9,
      "metadata": {
        "colab": {
          "base_uri": "https://localhost:8080/"
        },
        "id": "__jxCEUN6qJZ",
        "outputId": "e2d1c562-5c70-41ce-da1b-bd0e37d382de"
      },
      "outputs": [
        {
          "name": "stdout",
          "output_type": "stream",
          "text": [
            "Epoch 1/20\n",
            "108/108 [==============================] - 0s 3ms/step - loss: -879434.8750 - accuracy: 0.0000e+00 - val_loss: -922086.1250 - val_accuracy: 0.0000e+00\n",
            "Epoch 2/20\n",
            "108/108 [==============================] - 0s 2ms/step - loss: -998022.3750 - accuracy: 0.0000e+00 - val_loss: -1043089.7500 - val_accuracy: 0.0000e+00\n",
            "Epoch 3/20\n",
            "108/108 [==============================] - 0s 2ms/step - loss: -1125764.8750 - accuracy: 0.0000e+00 - val_loss: -1172677.8750 - val_accuracy: 0.0000e+00\n",
            "Epoch 4/20\n",
            "108/108 [==============================] - 0s 3ms/step - loss: -1262979.8750 - accuracy: 0.0000e+00 - val_loss: -1312843.8750 - val_accuracy: 0.0000e+00\n",
            "Epoch 5/20\n",
            "108/108 [==============================] - 0s 3ms/step - loss: -1408669.3750 - accuracy: 0.0000e+00 - val_loss: -1460324.3750 - val_accuracy: 0.0000e+00\n",
            "Epoch 6/20\n",
            "108/108 [==============================] - 0s 3ms/step - loss: -1563350.3750 - accuracy: 0.0000e+00 - val_loss: -1616808.6250 - val_accuracy: 0.0000e+00\n",
            "Epoch 7/20\n",
            "108/108 [==============================] - 0s 3ms/step - loss: -1727153.8750 - accuracy: 0.0000e+00 - val_loss: -1782759.2500 - val_accuracy: 0.0000e+00\n",
            "Epoch 8/20\n",
            "108/108 [==============================] - 0s 3ms/step - loss: -1899952.0000 - accuracy: 0.0000e+00 - val_loss: -1956885.7500 - val_accuracy: 0.0000e+00\n",
            "Epoch 9/20\n",
            "108/108 [==============================] - 0s 2ms/step - loss: -2082925.7500 - accuracy: 0.0000e+00 - val_loss: -2141495.7500 - val_accuracy: 0.0000e+00\n",
            "Epoch 10/20\n",
            "108/108 [==============================] - 0s 2ms/step - loss: -2274574.5000 - accuracy: 0.0000e+00 - val_loss: -2335737.5000 - val_accuracy: 0.0000e+00\n",
            "Epoch 11/20\n",
            "108/108 [==============================] - 0s 2ms/step - loss: -2476927.7500 - accuracy: 0.0000e+00 - val_loss: -2538101.7500 - val_accuracy: 0.0000e+00\n",
            "Epoch 12/20\n",
            "108/108 [==============================] - 0s 2ms/step - loss: -2687622.0000 - accuracy: 0.0000e+00 - val_loss: -2751153.0000 - val_accuracy: 0.0000e+00\n",
            "Epoch 13/20\n",
            "108/108 [==============================] - 0s 2ms/step - loss: -2908982.7500 - accuracy: 0.0000e+00 - val_loss: -2972905.2500 - val_accuracy: 0.0000e+00\n",
            "Epoch 14/20\n",
            "108/108 [==============================] - 0s 2ms/step - loss: -3140081.0000 - accuracy: 0.0000e+00 - val_loss: -3205427.5000 - val_accuracy: 0.0000e+00\n",
            "Epoch 15/20\n",
            "108/108 [==============================] - 0s 2ms/step - loss: -3382483.0000 - accuracy: 0.0000e+00 - val_loss: -3448963.0000 - val_accuracy: 0.0000e+00\n",
            "Epoch 16/20\n",
            "108/108 [==============================] - 0s 2ms/step - loss: -3634655.5000 - accuracy: 0.0000e+00 - val_loss: -3702271.0000 - val_accuracy: 0.0000e+00\n",
            "Epoch 17/20\n",
            "108/108 [==============================] - 0s 2ms/step - loss: -3895790.0000 - accuracy: 0.0000e+00 - val_loss: -3963572.7500 - val_accuracy: 0.0000e+00\n",
            "Epoch 18/20\n",
            "108/108 [==============================] - 0s 2ms/step - loss: -4167397.5000 - accuracy: 0.0000e+00 - val_loss: -4236805.5000 - val_accuracy: 0.0000e+00\n",
            "Epoch 19/20\n",
            "108/108 [==============================] - 0s 2ms/step - loss: -4449821.5000 - accuracy: 0.0000e+00 - val_loss: -4519421.0000 - val_accuracy: 0.0000e+00\n",
            "Epoch 20/20\n",
            "108/108 [==============================] - 0s 2ms/step - loss: -4742447.5000 - accuracy: 0.0000e+00 - val_loss: -4812996.5000 - val_accuracy: 0.0000e+00\n"
          ]
        }
      ],
      "source": [
        "# Import EarlyStopping\n",
        "from tensorflow.keras.callbacks import EarlyStopping\n",
        "\n",
        "# Create an EarlyStopping callback\n",
        "early_stopping_callback = EarlyStopping(monitor='val_loss', patience=5, restore_best_weights=True)\n",
        "\n",
        "# Train the model with EarlyStopping\n",
        "history = model.fit(X_train_scaled, y_train, epochs=20, validation_data=(X_val_scaled, y_val), callbacks=[tensorboard_callback, early_stopping_callback])"
      ]
    },
    {
      "cell_type": "markdown",
      "metadata": {
        "id": "R3XwfQ5D6zlz"
      },
      "source": [
        "Q11: Implement a ModelCheckpoint callback to save the best model based on a chosen metric during training."
      ]
    },
    {
      "cell_type": "code",
      "execution_count": 10,
      "metadata": {
        "id": "ovOUHaNn69Nc"
      },
      "outputs": [],
      "source": [
        "# Import ModelCheckpoint\n",
        "from tensorflow.keras.callbacks import ModelCheckpoint\n",
        "\n",
        "# Specify the checkpoint path\n",
        "checkpoint_path = \"best_model.h5\"\n",
        "\n",
        "# Create a ModelCheckpoint callback to save the best model\n",
        "model_checkpoint_callback = ModelCheckpoint(\n",
        "    filepath=checkpoint_path,\n",
        "    monitor='val_accuracy',  # Choose the metric to monitor (e.g., validation accuracy)\n",
        "    save_best_only=True,     # Save only the best model\n",
        "    mode='max',              # Maximize the monitored metric\n",
        "    verbose=1                # Display a message when saving the best model\n",
        ")"
      ]
    },
    {
      "cell_type": "markdown",
      "metadata": {
        "id": "LI5nTGHZ7D6P"
      },
      "source": [
        "Q12: Print the model summary."
      ]
    },
    {
      "cell_type": "code",
      "execution_count": 11,
      "metadata": {
        "colab": {
          "base_uri": "https://localhost:8080/"
        },
        "id": "SNPGPCK77EvP",
        "outputId": "9c54f710-82f1-4ab7-fdd9-be8e656f5012"
      },
      "outputs": [
        {
          "name": "stdout",
          "output_type": "stream",
          "text": [
            "Model: \"sequential\"\n",
            "_________________________________________________________________\n",
            " Layer (type)                Output Shape              Param #   \n",
            "=================================================================\n",
            " dense (Dense)               (None, 64)                768       \n",
            "                                                                 \n",
            " dense_1 (Dense)             (None, 32)                2080      \n",
            "                                                                 \n",
            " dense_2 (Dense)             (None, 1)                 33        \n",
            "                                                                 \n",
            "=================================================================\n",
            "Total params: 2,881\n",
            "Trainable params: 2,881\n",
            "Non-trainable params: 0\n",
            "_________________________________________________________________\n"
          ]
        }
      ],
      "source": [
        "# Print the model summary\n",
        "model.summary()"
      ]
    },
    {
      "cell_type": "markdown",
      "metadata": {
        "id": "QHzbzR8a7JZr"
      },
      "source": [
        "Q13: Use binary cross-entropy as the loss function, Adam optimizer, and include the metric ['accuracy']."
      ]
    },
    {
      "cell_type": "code",
      "execution_count": 12,
      "metadata": {
        "id": "UgCcZZOF7LqR"
      },
      "outputs": [],
      "source": [
        "# Compile the model with the specified loss function, optimizer, and metrics\n",
        "model.compile(optimizer='adam', loss='binary_crossentropy', metrics=['accuracy'])"
      ]
    },
    {
      "cell_type": "markdown",
      "metadata": {
        "id": "9IdSfJ-87M8K"
      },
      "source": [
        "Q14: Compile the model with the specified loss function, optimizer, and metrics."
      ]
    },
    {
      "cell_type": "code",
      "execution_count": null,
      "metadata": {
        "id": "RsSaYNWk7PFb"
      },
      "outputs": [],
      "source": [
        "# We've already compiled the model in the previous code."
      ]
    },
    {
      "cell_type": "markdown",
      "metadata": {
        "id": "ic7en9V_7U0Y"
      },
      "source": [
        "Q15: Fit the model to the data, incorporating the TensorBoard, Early Stopping, and ModelCheckpoint callbacks."
      ]
    },
    {
      "cell_type": "code",
      "execution_count": 13,
      "metadata": {
        "colab": {
          "base_uri": "https://localhost:8080/"
        },
        "id": "SgwsFM9R7XQt",
        "outputId": "3ceb73e4-c55a-403f-f482-40d63d85577b"
      },
      "outputs": [
        {
          "name": "stdout",
          "output_type": "stream",
          "text": [
            "Epoch 1/20\n",
            " 78/108 [====================>.........] - ETA: 0s - loss: -5000502.0000 - accuracy: 0.0000e+00\n",
            "Epoch 1: val_accuracy improved from -inf to 0.00000, saving model to best_model.h5\n",
            "108/108 [==============================] - 1s 3ms/step - loss: -5006165.0000 - accuracy: 0.0000e+00 - val_loss: -5035983.0000 - val_accuracy: 0.0000e+00\n",
            "Epoch 2/20\n",
            " 78/108 [====================>.........] - ETA: 0s - loss: -5202890.0000 - accuracy: 0.0000e+00\n",
            "Epoch 2: val_accuracy did not improve from 0.00000\n",
            "108/108 [==============================] - 0s 2ms/step - loss: -5239444.0000 - accuracy: 0.0000e+00 - val_loss: -5270804.5000 - val_accuracy: 0.0000e+00\n",
            "Epoch 3/20\n",
            "104/108 [===========================>..] - ETA: 0s - loss: -5474432.0000 - accuracy: 0.0000e+00\n",
            "Epoch 3: val_accuracy did not improve from 0.00000\n",
            "108/108 [==============================] - 0s 3ms/step - loss: -5482149.0000 - accuracy: 0.0000e+00 - val_loss: -5514557.5000 - val_accuracy: 0.0000e+00\n",
            "Epoch 4/20\n",
            " 75/108 [===================>..........] - ETA: 0s - loss: -5743514.0000 - accuracy: 0.0000e+00\n",
            "Epoch 4: val_accuracy did not improve from 0.00000\n",
            "108/108 [==============================] - 0s 2ms/step - loss: -5736269.5000 - accuracy: 0.0000e+00 - val_loss: -5771050.0000 - val_accuracy: 0.0000e+00\n",
            "Epoch 5/20\n",
            "101/108 [===========================>..] - ETA: 0s - loss: -5991063.0000 - accuracy: 0.0000e+00\n",
            "Epoch 5: val_accuracy did not improve from 0.00000\n",
            "108/108 [==============================] - 0s 2ms/step - loss: -6002550.5000 - accuracy: 0.0000e+00 - val_loss: -6037623.0000 - val_accuracy: 0.0000e+00\n",
            "Epoch 6/20\n",
            "105/108 [============================>.] - ETA: 0s - loss: -6269891.0000 - accuracy: 0.0000e+00\n",
            "Epoch 6: val_accuracy did not improve from 0.00000\n",
            "108/108 [==============================] - 0s 2ms/step - loss: -6280458.0000 - accuracy: 0.0000e+00 - val_loss: -6316930.5000 - val_accuracy: 0.0000e+00\n",
            "Epoch 7/20\n",
            "102/108 [===========================>..] - ETA: 0s - loss: -6576805.5000 - accuracy: 0.0000e+00\n",
            "Epoch 7: val_accuracy did not improve from 0.00000\n",
            "108/108 [==============================] - 0s 2ms/step - loss: -6568247.5000 - accuracy: 0.0000e+00 - val_loss: -6606346.5000 - val_accuracy: 0.0000e+00\n",
            "Epoch 8/20\n",
            "108/108 [==============================] - ETA: 0s - loss: -6868913.5000 - accuracy: 0.0000e+00\n",
            "Epoch 8: val_accuracy did not improve from 0.00000\n",
            "108/108 [==============================] - 0s 2ms/step - loss: -6868913.5000 - accuracy: 0.0000e+00 - val_loss: -6906655.0000 - val_accuracy: 0.0000e+00\n",
            "Epoch 9/20\n",
            "103/108 [===========================>..] - ETA: 0s - loss: -7196266.5000 - accuracy: 0.0000e+00\n",
            "Epoch 9: val_accuracy did not improve from 0.00000\n",
            "108/108 [==============================] - 0s 2ms/step - loss: -7181278.0000 - accuracy: 0.0000e+00 - val_loss: -7221037.5000 - val_accuracy: 0.0000e+00\n",
            "Epoch 10/20\n",
            " 81/108 [=====================>........] - ETA: 0s - loss: -7481027.0000 - accuracy: 0.0000e+00\n",
            "Epoch 10: val_accuracy did not improve from 0.00000\n",
            "108/108 [==============================] - 0s 2ms/step - loss: -7506411.5000 - accuracy: 0.0000e+00 - val_loss: -7545597.0000 - val_accuracy: 0.0000e+00\n",
            "Epoch 11/20\n",
            "106/108 [============================>.] - ETA: 0s - loss: -7834719.5000 - accuracy: 0.0000e+00\n",
            "Epoch 11: val_accuracy did not improve from 0.00000\n",
            "108/108 [==============================] - 0s 3ms/step - loss: -7844078.5000 - accuracy: 0.0000e+00 - val_loss: -7883524.0000 - val_accuracy: 0.0000e+00\n",
            "Epoch 12/20\n",
            " 95/108 [=========================>....] - ETA: 0s - loss: -8159172.0000 - accuracy: 0.0000e+00\n",
            "Epoch 12: val_accuracy did not improve from 0.00000\n",
            "108/108 [==============================] - 0s 3ms/step - loss: -8192755.0000 - accuracy: 0.0000e+00 - val_loss: -8233717.0000 - val_accuracy: 0.0000e+00\n",
            "Epoch 13/20\n",
            " 95/108 [=========================>....] - ETA: 0s - loss: -8477079.0000 - accuracy: 0.0000e+00\n",
            "Epoch 13: val_accuracy did not improve from 0.00000\n",
            "108/108 [==============================] - 0s 3ms/step - loss: -8556361.0000 - accuracy: 0.0000e+00 - val_loss: -8596949.0000 - val_accuracy: 0.0000e+00\n",
            "Epoch 14/20\n",
            "105/108 [============================>.] - ETA: 0s - loss: -8915904.0000 - accuracy: 0.0000e+00\n",
            "Epoch 14: val_accuracy did not improve from 0.00000\n",
            "108/108 [==============================] - 0s 3ms/step - loss: -8932534.0000 - accuracy: 0.0000e+00 - val_loss: -8974210.0000 - val_accuracy: 0.0000e+00\n",
            "Epoch 15/20\n",
            " 95/108 [=========================>....] - ETA: 0s - loss: -9337201.0000 - accuracy: 0.0000e+00\n",
            "Epoch 15: val_accuracy did not improve from 0.00000\n",
            "108/108 [==============================] - 0s 3ms/step - loss: -9320910.0000 - accuracy: 0.0000e+00 - val_loss: -9363099.0000 - val_accuracy: 0.0000e+00\n",
            "Epoch 16/20\n",
            " 89/108 [=======================>......] - ETA: 0s - loss: -9630798.0000 - accuracy: 0.0000e+00\n",
            "Epoch 16: val_accuracy did not improve from 0.00000\n",
            "108/108 [==============================] - 0s 3ms/step - loss: -9723073.0000 - accuracy: 0.0000e+00 - val_loss: -9764238.0000 - val_accuracy: 0.0000e+00\n",
            "Epoch 17/20\n",
            "104/108 [===========================>..] - ETA: 0s - loss: -10117581.0000 - accuracy: 0.0000e+00\n",
            "Epoch 17: val_accuracy did not improve from 0.00000\n",
            "108/108 [==============================] - 0s 2ms/step - loss: -10138061.0000 - accuracy: 0.0000e+00 - val_loss: -10179525.0000 - val_accuracy: 0.0000e+00\n",
            "Epoch 18/20\n",
            "108/108 [==============================] - ETA: 0s - loss: -10566835.0000 - accuracy: 0.0000e+00\n",
            "Epoch 18: val_accuracy did not improve from 0.00000\n",
            "108/108 [==============================] - 0s 2ms/step - loss: -10566835.0000 - accuracy: 0.0000e+00 - val_loss: -10608607.0000 - val_accuracy: 0.0000e+00\n",
            "Epoch 19/20\n",
            "107/108 [============================>.] - ETA: 0s - loss: -11006194.0000 - accuracy: 0.0000e+00\n",
            "Epoch 19: val_accuracy did not improve from 0.00000\n",
            "108/108 [==============================] - 0s 2ms/step - loss: -11010073.0000 - accuracy: 0.0000e+00 - val_loss: -11052061.0000 - val_accuracy: 0.0000e+00\n",
            "Epoch 20/20\n",
            "106/108 [============================>.] - ETA: 0s - loss: -11453436.0000 - accuracy: 0.0000e+00\n",
            "Epoch 20: val_accuracy did not improve from 0.00000\n",
            "108/108 [==============================] - 0s 2ms/step - loss: -11468191.0000 - accuracy: 0.0000e+00 - val_loss: -11508927.0000 - val_accuracy: 0.0000e+00\n"
          ]
        }
      ],
      "source": [
        "# Import the necessary callbacks\n",
        "from tensorflow.keras.callbacks import TensorBoard, EarlyStopping, ModelCheckpoint\n",
        "\n",
        "# Specify the callback paths\n",
        "log_dir = \"logs/fit/\"\n",
        "checkpoint_path = \"best_model.h5\"\n",
        "\n",
        "# Create callbacks\n",
        "tensorboard_callback = TensorBoard(log_dir=log_dir, histogram_freq=1)\n",
        "early_stopping_callback = EarlyStopping(monitor='val_loss', patience=5, restore_best_weights=True)\n",
        "model_checkpoint_callback = ModelCheckpoint(filepath=checkpoint_path, monitor='val_accuracy', save_best_only=True, mode='max', verbose=1)\n",
        "\n",
        "# Fit the model with callbacks\n",
        "history = model.fit(\n",
        "    X_train_scaled, y_train,\n",
        "    epochs=20,\n",
        "    validation_data=(X_val_scaled, y_val),\n",
        "    callbacks=[tensorboard_callback, early_stopping_callback, model_checkpoint_callback]\n",
        ")"
      ]
    },
    {
      "cell_type": "markdown",
      "metadata": {
        "id": "tfVNib0E7dGd"
      },
      "source": [
        "Q16: Get the model's parameters."
      ]
    },
    {
      "cell_type": "code",
      "execution_count": 14,
      "metadata": {
        "id": "r3rq-Qmr7fah"
      },
      "outputs": [],
      "source": [
        "# Get the model's parameters\n",
        "model_params = model.get_weights()"
      ]
    },
    {
      "cell_type": "markdown",
      "metadata": {
        "id": "NedTmcmL7i3B"
      },
      "source": [
        "Q17: Store the model's training history as a Pandas DataFrame."
      ]
    },
    {
      "cell_type": "code",
      "execution_count": 15,
      "metadata": {
        "colab": {
          "base_uri": "https://localhost:8080/"
        },
        "id": "gAHNsHQY7jw1",
        "outputId": "5f727464-c610-4236-a799-429896b7a438"
      },
      "outputs": [
        {
          "name": "stdout",
          "output_type": "stream",
          "text": [
            "        loss  accuracy   val_loss  val_accuracy\n",
            "0 -5006165.0       0.0 -5035983.0           0.0\n",
            "1 -5239444.0       0.0 -5270804.5           0.0\n",
            "2 -5482149.0       0.0 -5514557.5           0.0\n",
            "3 -5736269.5       0.0 -5771050.0           0.0\n",
            "4 -6002550.5       0.0 -6037623.0           0.0\n"
          ]
        }
      ],
      "source": [
        "import pandas as pd\n",
        "\n",
        "# Create a DataFrame from the model's training history\n",
        "history_df = pd.DataFrame(history.history)\n",
        "\n",
        "# Print the first few rows of the history DataFrame\n",
        "print(history_df.head())"
      ]
    },
    {
      "cell_type": "markdown",
      "metadata": {
        "id": "X7PisRKa7nyh"
      },
      "source": [
        "Q18: Plot the model's training history."
      ]
    },
    {
      "cell_type": "code",
      "execution_count": 16,
      "metadata": {
        "colab": {
          "base_uri": "https://localhost:8080/",
          "height": 507
        },
        "id": "XwosJ1FL7ovP",
        "outputId": "366be30c-63bb-4b9a-f713-0f7a2efe761f"
      },
      "outputs": [
        {
          "data": {
            "image/png": "[encoded data removed]",
            "text/plain": [
              "<Figure size 1000x500 with 2 Axes>"
            ]
          },
          "metadata": {},
          "output_type": "display_data"
        }
      ],
      "source": [
        "import matplotlib.pyplot as plt\n",
        "\n",
        "# Plot training & validation loss values\n",
        "plt.figure(figsize=(10, 5))\n",
        "plt.subplot(1, 2, 1)\n",
        "plt.plot(history.history['loss'], label='Training Loss')\n",
        "plt.plot(history.history['val_loss'], label='Validation Loss')\n",
        "plt.title('Model Loss')\n",
        "plt.xlabel('Epoch')\n",
        "plt.ylabel('Loss')\n",
        "plt.legend()\n",
        "\n",
        "# Plot training & validation accuracy values\n",
        "plt.subplot(1, 2, 2)\n",
        "plt.plot(history.history['accuracy'], label='Training Accuracy')\n",
        "plt.plot(history.history['val_accuracy'], label='Validation Accuracy')\n",
        "plt.title('Model Accuracy')\n",
        "plt.xlabel('Epoch')\n",
        "plt.ylabel('Accuracy')\n",
        "plt.legend()\n",
        "\n",
        "plt.tight_layout()\n",
        "plt.show()"
      ]
    },
    {
      "cell_type": "markdown",
      "metadata": {
        "id": "3dC5u7n27s2M"
      },
      "source": [
        "Q19: Evaluate the model's performance using the test data."
      ]
    },
    {
      "cell_type": "code",
      "execution_count": 17,
      "metadata": {
        "colab": {
          "base_uri": "https://localhost:8080/"
        },
        "id": "60mSsTx87vQB",
        "outputId": "8aaeeb03-c76d-48fe-e5e6-82d59029b96a"
      },
      "outputs": [
        {
          "name": "stdout",
          "output_type": "stream",
          "text": [
            "23/23 [==============================] - 0s 1ms/step - loss: -12081920.0000 - accuracy: 0.0000e+00\n",
            "Test Loss: -12081920.0000\n",
            "Test Accuracy: 0.00%\n"
          ]
        }
      ],
      "source": [
        "# Evaluate the model on the test data\n",
        "test_loss, test_accuracy = model.evaluate(X_test_scaled, y_test)\n",
        "\n",
        "print(f\"Test Loss: {test_loss:.4f}\")\n",
        "print(f\"Test Accuracy: {test_accuracy*100:.2f}%\")"
      ]
    }
  ],
  "metadata": {
    "colab": {
      "provenance": []
    },
    "kernelspec": {
      "display_name": "Python 3",
      "name": "python3"
    },
    "language_info": {
      "name": "python"
    }
  },
  "nbformat": 4,
  "nbformat_minor": 0
}
