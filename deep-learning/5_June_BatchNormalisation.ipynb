{
  "nbformat": 4,
  "nbformat_minor": 0,
  "metadata": {
    "colab": {
      "provenance": []
    },
    "kernelspec": {
      "name": "python3",
      "display_name": "Python 3"
    },
    "language_info": {
      "name": "python"
    }
  },
  "cells": [
    {
      "cell_type": "markdown",
      "source": [
        "#Batch Normalisation"
      ],
      "metadata": {
        "id": "Z5vXLKAqsQMg"
      }
    },
    {
      "cell_type": "markdown",
      "source": [
        "**Q1: Explain the concept of batch normalization in the context of Artificial Neural Networks:**\n",
        "\n",
        "Batch Normalization (BatchNorm) is a technique used in artificial neural networks to improve the training and convergence of deep networks. It operates by normalizing the input of each layer in a network to have a mean of zero and a standard deviation of one over a mini-batch of training examples. Here's how it works:\n",
        "\n",
        "1. **Normalization Step:** For each neuron in a layer, BatchNorm normalizes its inputs by subtracting the mini-batch mean and then dividing by the mini-batch standard deviation. Mathematically, for a given neuron's input x and parameters γ (scaling factor) and β (shifting factor), the normalized output y is calculated as follows:\n",
        "   \n",
        "   ```\n",
        "   y = γ * (x - μ) / √(σ^2 + ε) + β\n",
        "   ```\n",
        "\n",
        "   Where:\n",
        "   - μ is the mini-batch mean of the neuron's input.\n",
        "   - σ^2 is the mini-batch variance of the neuron's input.\n",
        "   - ε is a small constant (usually added for numerical stability).\n",
        "\n",
        "2. **Learnable Parameters:** In addition to the mean and variance statistics, BatchNorm introduces two learnable parameters, γ (gamma) and β (beta), for each neuron in the layer. These parameters allow the network to adjust the scaling and shifting of the normalized values, giving it the flexibility to learn the optimal transformations.\n",
        "\n",
        "3. **During Training:** During training, BatchNorm computes the mini-batch statistics (mean and variance) using the current mini-batch and updates a running average of these statistics over time. This helps stabilize the training process and prevents the network from relying too heavily on a single mini-batch.\n",
        "\n",
        "4. **During Inference:** During inference (when making predictions), BatchNorm uses the running averages of mean and variance rather than mini-batch statistics. This ensures consistent behavior and improves the network's robustness.\n",
        "\n",
        "**Q2: Describe the benefits of using batch normalization during training:**\n",
        "\n",
        "Batch Normalization offers several benefits during the training of artificial neural networks:\n",
        "\n",
        "1. **Stability:** It helps stabilize and speed up the training process by mitigating the vanishing/exploding gradient problem. This allows for the use of higher learning rates, accelerating convergence.\n",
        "\n",
        "2. **Improved Generalization:** BatchNorm acts as a form of regularization, reducing the risk of overfitting by reducing internal covariate shift. This enables the network to generalize better to unseen data.\n",
        "\n",
        "3. **Faster Convergence:** Networks with BatchNorm often converge faster, requiring fewer training epochs to achieve good performance, which saves both time and computational resources.\n",
        "\n",
        "4. **Better Weight Initialization:** It makes network training less dependent on the choice of initial weights. Networks with BatchNorm are less sensitive to the initialization method.\n",
        "\n",
        "5. **Reduction of Internal Covariate Shift:** BatchNorm ensures that the distributions of activations within a layer remain stable during training, which helps gradients flow more smoothly through the network.\n",
        "\n",
        "**Q3: Discuss the working principle of batch normalization, including the normalization step and the learnable parameters:**\n",
        "\n",
        "The working principle of Batch Normalization involves the following steps:\n",
        "\n",
        "1. **Normalization Step:** For each neuron in a layer, the BatchNorm algorithm normalizes its inputs by subtracting the mini-batch mean and dividing by the mini-batch standard deviation. This step helps center and scale the activations to have a mean of zero and a standard deviation of one. The formula for normalization is:\n",
        "\n",
        "   ```\n",
        "   y = γ * (x - μ) / √(σ^2 + ε) + β\n",
        "   ```\n",
        "\n",
        "   Where:\n",
        "   - x is the neuron's input.\n",
        "   - μ is the mini-batch mean of the input.\n",
        "   - σ^2 is the mini-batch variance of the input.\n",
        "   - ε is a small constant added for numerical stability.\n",
        "   - γ and β are learnable parameters specific to the neuron.\n",
        "\n",
        "2. **Learnable Parameters:** BatchNorm introduces two learnable parameters, γ (gamma) and β (beta), for each neuron in the layer. These parameters are used to scale and shift the normalized values according to what the network needs to learn. γ allows the network to scale the normalized values, and β allows it to shift them. During training, γ and β are learned through gradient descent along with other network parameters.\n",
        "\n",
        "3. **Mini-Batch Statistics:** During each forward pass in training, BatchNorm computes the mini-batch mean and variance for each neuron. These statistics are calculated for the current mini-batch and used to normalize the inputs. The running averages of mean and variance are also maintained for inference.\n",
        "\n",
        "By normalizing the inputs and introducing learnable parameters, BatchNorm ensures that the activations within a layer remain well-distributed and facilitates smoother and faster training of deep neural networks."
      ],
      "metadata": {
        "id": "_Ud9OgVTtfBh"
      }
    },
    {
      "cell_type": "markdown",
      "source": [
        "Q1: Choose a dataset of your choice and preprocess it:\n",
        "\n",
        "Choosing the MNIST dataset, which consists of handwritten digit images. We'll preprocess it by loading the dataset, normalizing pixel values, and splitting it into training and validation sets."
      ],
      "metadata": {
        "id": "-BeciBR05PLi"
      }
    },
    {
      "cell_type": "code",
      "source": [
        "import tensorflow as tf\n",
        "from tensorflow.keras.datasets import mnist\n",
        "\n",
        "# Load the MNIST dataset\n",
        "(train_images, train_labels), (test_images, test_labels) = mnist.load_data()\n",
        "\n",
        "# Preprocess the data\n",
        "train_images = train_images.reshape((60000, 28, 28, 1))\n",
        "train_images = train_images.astype('float32') / 255\n",
        "\n",
        "test_images = test_images.reshape((10000, 28, 28, 1))\n",
        "test_images = test_images.astype('float32') / 255"
      ],
      "metadata": {
        "colab": {
          "base_uri": "https://localhost:8080/"
        },
        "id": "3EfkweXi5Xtm",
        "outputId": "5fb28e5b-37d2-4fa4-a290-3ccaa42357db"
      },
      "execution_count": 1,
      "outputs": [
        {
          "output_type": "stream",
          "name": "stdout",
          "text": [
            "Downloading data from https://storage.googleapis.com/tensorflow/tf-keras-datasets/mnist.npz\n",
            "11490434/11490434 [==============================] - 0s 0us/step\n"
          ]
        }
      ]
    },
    {
      "cell_type": "code",
      "source": [
        "print(len(train_images))\n",
        "print(len(test_images))"
      ],
      "metadata": {
        "colab": {
          "base_uri": "https://localhost:8080/"
        },
        "id": "LrWI5p6B51Ci",
        "outputId": "39578445-7921-45ae-8628-c0043889c0b1"
      },
      "execution_count": 14,
      "outputs": [
        {
          "output_type": "stream",
          "name": "stdout",
          "text": [
            "60000\n",
            "10000\n"
          ]
        }
      ]
    },
    {
      "cell_type": "markdown",
      "source": [
        "Q2: Implement a simple feedforward neural network:\n",
        "\n",
        "A simple feedforward neural network using TensorFlow and Keras:"
      ],
      "metadata": {
        "id": "mLOO8hfJ5dzp"
      }
    },
    {
      "cell_type": "code",
      "source": [
        "from tensorflow.keras import models, layers\n",
        "\n",
        "model = models.Sequential([\n",
        "    layers.Flatten(input_shape=(28, 28, 1)),\n",
        "    layers.Dense(128, activation='relu'),\n",
        "    layers.Dense(10, activation='softmax')\n",
        "])\n",
        "\n",
        "model.compile(optimizer='adam',\n",
        "              loss='sparse_categorical_crossentropy',\n",
        "              metrics=['accuracy'])"
      ],
      "metadata": {
        "id": "budUDSVp5fTJ"
      },
      "execution_count": 15,
      "outputs": []
    },
    {
      "cell_type": "markdown",
      "source": [
        "Q3: Train the neural network without using batch normalization:\n"
      ],
      "metadata": {
        "id": "SA8dCclW7iMe"
      }
    },
    {
      "cell_type": "code",
      "source": [
        "history_no_bn = model.fit(train_images, train_labels, epochs=10, validation_data=(test_images, test_labels))"
      ],
      "metadata": {
        "colab": {
          "base_uri": "https://localhost:8080/"
        },
        "id": "jrnmx8qd7i9S",
        "outputId": "879edd67-8e6b-45a0-a133-d68ecb0a9acc"
      },
      "execution_count": 16,
      "outputs": [
        {
          "output_type": "stream",
          "name": "stdout",
          "text": [
            "Epoch 1/10\n",
            "1875/1875 [==============================] - 8s 4ms/step - loss: 0.2586 - accuracy: 0.9266 - val_loss: 0.1349 - val_accuracy: 0.9584\n",
            "Epoch 2/10\n",
            "1875/1875 [==============================] - 6s 3ms/step - loss: 0.1116 - accuracy: 0.9676 - val_loss: 0.0925 - val_accuracy: 0.9733\n",
            "Epoch 3/10\n",
            "1875/1875 [==============================] - 7s 4ms/step - loss: 0.0773 - accuracy: 0.9773 - val_loss: 0.0850 - val_accuracy: 0.9724\n",
            "Epoch 4/10\n",
            "1875/1875 [==============================] - 6s 3ms/step - loss: 0.0568 - accuracy: 0.9826 - val_loss: 0.0812 - val_accuracy: 0.9743\n",
            "Epoch 5/10\n",
            "1875/1875 [==============================] - 8s 4ms/step - loss: 0.0449 - accuracy: 0.9861 - val_loss: 0.0673 - val_accuracy: 0.9777\n",
            "Epoch 6/10\n",
            "1875/1875 [==============================] - 6s 3ms/step - loss: 0.0356 - accuracy: 0.9886 - val_loss: 0.0816 - val_accuracy: 0.9733\n",
            "Epoch 7/10\n",
            "1875/1875 [==============================] - 7s 4ms/step - loss: 0.0283 - accuracy: 0.9915 - val_loss: 0.0845 - val_accuracy: 0.9746\n",
            "Epoch 8/10\n",
            "1875/1875 [==============================] - 6s 3ms/step - loss: 0.0230 - accuracy: 0.9931 - val_loss: 0.0793 - val_accuracy: 0.9772\n",
            "Epoch 9/10\n",
            "1875/1875 [==============================] - 7s 4ms/step - loss: 0.0186 - accuracy: 0.9942 - val_loss: 0.0786 - val_accuracy: 0.9771\n",
            "Epoch 10/10\n",
            "1875/1875 [==============================] - 7s 4ms/step - loss: 0.0160 - accuracy: 0.9951 - val_loss: 0.0787 - val_accuracy: 0.9782\n"
          ]
        }
      ]
    },
    {
      "cell_type": "markdown",
      "source": [
        "Q4: Implement batch normalization layers and train the model again:\n",
        "\n",
        "We'll add batch normalization layers before each activation function in the network."
      ],
      "metadata": {
        "id": "srwlBQmZ7lk4"
      }
    },
    {
      "cell_type": "code",
      "source": [
        "model_with_bn = models.Sequential([\n",
        "    layers.Flatten(input_shape=(28, 28, 1)),\n",
        "    layers.Dense(128),\n",
        "    layers.BatchNormalization(),  # Batch normalization layer\n",
        "    layers.Activation('relu'),\n",
        "    layers.Dense(10, activation='softmax')\n",
        "])\n",
        "\n",
        "model_with_bn.compile(optimizer='adam',\n",
        "                      loss='sparse_categorical_crossentropy',\n",
        "                      metrics=['accuracy'])"
      ],
      "metadata": {
        "id": "95VAZFYP7okS"
      },
      "execution_count": 17,
      "outputs": []
    },
    {
      "cell_type": "code",
      "source": [
        "history_with_bn = model_with_bn.fit(train_images, train_labels, epochs=10, validation_data=(test_images, test_labels))"
      ],
      "metadata": {
        "colab": {
          "base_uri": "https://localhost:8080/"
        },
        "id": "1S6QYPp47rG7",
        "outputId": "a5a4c479-7550-4f87-9544-30935b3db845"
      },
      "execution_count": 18,
      "outputs": [
        {
          "output_type": "stream",
          "name": "stdout",
          "text": [
            "Epoch 1/10\n",
            "1875/1875 [==============================] - 7s 4ms/step - loss: 0.2563 - accuracy: 0.9261 - val_loss: 0.1233 - val_accuracy: 0.9624\n",
            "Epoch 2/10\n",
            "1875/1875 [==============================] - 8s 4ms/step - loss: 0.1255 - accuracy: 0.9626 - val_loss: 0.1052 - val_accuracy: 0.9689\n",
            "Epoch 3/10\n",
            "1875/1875 [==============================] - 7s 4ms/step - loss: 0.0919 - accuracy: 0.9723 - val_loss: 0.0915 - val_accuracy: 0.9732\n",
            "Epoch 4/10\n",
            "1875/1875 [==============================] - 7s 4ms/step - loss: 0.0753 - accuracy: 0.9768 - val_loss: 0.0814 - val_accuracy: 0.9743\n",
            "Epoch 5/10\n",
            "1875/1875 [==============================] - 8s 4ms/step - loss: 0.0610 - accuracy: 0.9808 - val_loss: 0.0810 - val_accuracy: 0.9755\n",
            "Epoch 6/10\n",
            "1875/1875 [==============================] - 7s 4ms/step - loss: 0.0499 - accuracy: 0.9845 - val_loss: 0.0701 - val_accuracy: 0.9785\n",
            "Epoch 7/10\n",
            "1875/1875 [==============================] - 8s 4ms/step - loss: 0.0458 - accuracy: 0.9854 - val_loss: 0.0841 - val_accuracy: 0.9743\n",
            "Epoch 8/10\n",
            "1875/1875 [==============================] - 7s 4ms/step - loss: 0.0406 - accuracy: 0.9876 - val_loss: 0.0757 - val_accuracy: 0.9768\n",
            "Epoch 9/10\n",
            "1875/1875 [==============================] - 8s 4ms/step - loss: 0.0361 - accuracy: 0.9885 - val_loss: 0.0701 - val_accuracy: 0.9801\n",
            "Epoch 10/10\n",
            "1875/1875 [==============================] - 7s 4ms/step - loss: 0.0331 - accuracy: 0.9894 - val_loss: 0.0809 - val_accuracy: 0.9765\n"
          ]
        }
      ]
    },
    {
      "cell_type": "markdown",
      "source": [
        "Q5: Compare the training and validation performance:\n",
        "\n",
        "We can compare the performance using metrics such as accuracy and loss:"
      ],
      "metadata": {
        "id": "1OULHLx17xst"
      }
    },
    {
      "cell_type": "code",
      "source": [
        "import matplotlib.pyplot as plt\n",
        "\n",
        "acc_no_bn = history_no_bn.history['accuracy']\n",
        "val_acc_no_bn = history_no_bn.history['val_accuracy']\n",
        "acc_with_bn = history_with_bn.history['accuracy']\n",
        "val_acc_with_bn = history_with_bn.history['val_accuracy']\n",
        "\n",
        "epochs = range(1, len(acc_no_bn) + 1)\n",
        "\n",
        "plt.figure(figsize=(12, 4))\n",
        "plt.subplot(1, 2, 1)\n",
        "plt.plot(epochs, acc_no_bn, 'bo-', label='Training Accuracy (No BN)')\n",
        "plt.plot(epochs, val_acc_no_bn, 'ro-', label='Validation Accuracy (No BN)')\n",
        "plt.legend()\n",
        "plt.title('Training and Validation Accuracy (No BN)')\n",
        "\n",
        "plt.subplot(1, 2, 2)\n",
        "plt.plot(epochs, acc_with_bn, 'bo-', label='Training Accuracy (With BN)')\n",
        "plt.plot(epochs, val_acc_with_bn, 'ro-', label='Validation Accuracy (With BN)')\n",
        "plt.legend()\n",
        "plt.title('Training and Validation Accuracy (With BN)')\n",
        "\n",
        "plt.show()"
      ],
      "metadata": {
        "colab": {
          "base_uri": "https://localhost:8080/",
          "height": 391
        },
        "id": "eF-PUmKE7yWS",
        "outputId": "4fa78fcd-f3ed-490d-e2e2-7e800b1dbc8b"
      },
      "execution_count": 19,
      "outputs": [
        {
          "output_type": "display_data",
          "data": {
            "text/plain": [
              "<Figure size 1200x400 with 2 Axes>"
            ],
            "image/png": "[encoded data removed]"
          },
          "metadata": {}
        }
      ]
    },
    {
      "cell_type": "markdown",
      "source": [
        "Q6: Discuss the impact of batch normalization:\n",
        "\n",
        "**With Batch Normalization:**\n",
        "\n",
        "**Faster convergence:** The model with batch normalization often converges faster, requiring fewer epochs to achieve a certain level of accuracy.\n",
        "Improved generalization: Batch normalization acts as a form of regularization, reducing overfitting and allowing the model to generalize better to unseen data.\n",
        "Stable training: Batch normalization helps stabilize training by mitigating the vanishing/exploding gradient problem.\n",
        "Less sensitivity to initialization: Models with batch normalization are less sensitive to the choice of initial weights.\n",
        "\n",
        "**Without Batch Normalization:**\n",
        "\n",
        "**Slower convergence:** Training without batch normalization may require more epochs to reach a similar level of accuracy.\n",
        "Greater risk of overfitting: Without normalization, there's a higher risk of overfitting to the training data.\n",
        "Gradient issues: Training deep networks without normalization can lead to gradient-related challenges."
      ],
      "metadata": {
        "id": "vyYcLRAs70zu"
      }
    },
    {
      "cell_type": "markdown",
      "source": [
        "Q1: Experiment with different batch sizes and observe the effect on the training dynamics and model performance:"
      ],
      "metadata": {
        "id": "4bs5ZTKFVWVV"
      }
    },
    {
      "cell_type": "code",
      "source": [
        "import tensorflow as tf\n",
        "from tensorflow.keras.datasets import mnist\n",
        "from tensorflow.keras.models import Sequential\n",
        "from tensorflow.keras.layers import Flatten, Dense\n",
        "from tensorflow.keras.optimizers import Adam\n",
        "\n",
        "# Load the MNIST dataset\n",
        "(train_images, train_labels), (test_images, test_labels) = mnist.load_data()\n",
        "\n",
        "# Preprocess the data\n",
        "train_images = train_images.reshape((60000, 28, 28, 1)).astype('float32') / 255\n",
        "test_images = test_images.reshape((10000, 28, 28, 1)).astype('float32') / 255\n",
        "\n",
        "# Define batch sizes to experiment with\n",
        "batch_sizes = [32, 64, 128, 256]\n",
        "\n",
        "# Experiment loop\n",
        "for batch_size in batch_sizes:\n",
        "    # Create and compile a simple feedforward neural network\n",
        "    model = Sequential([\n",
        "        Flatten(input_shape=(28, 28, 1)),\n",
        "        Dense(128, activation='relu'),\n",
        "        Dense(10, activation='softmax')\n",
        "    ])\n",
        "\n",
        "    model.compile(optimizer=Adam(),\n",
        "                  loss='sparse_categorical_crossentropy',\n",
        "                  metrics=['accuracy'])\n",
        "\n",
        "    print(f\"Training with batch size {batch_size}...\")\n",
        "\n",
        "    # Train the model with the specified batch size\n",
        "    history = model.fit(train_images, train_labels, batch_size=batch_size, epochs=10, validation_data=(test_images, test_labels))\n",
        "\n",
        "    # Evaluate and print the model's performance\n",
        "    test_loss, test_accuracy = model.evaluate(test_images, test_labels)\n",
        "    print(f\"Test accuracy with batch size {batch_size}: {test_accuracy * 100:.2f}%\")\n",
        "\n",
        "    # Optionally, plot training curves (loss and accuracy) for each batch size\n",
        "    # We can use the history object to access training metrics and plot the curves\n",
        "\n",
        "    print(\"\\n\" + \"=\" * 50 + \"\\n\")"
      ],
      "metadata": {
        "colab": {
          "base_uri": "https://localhost:8080/"
        },
        "id": "8JZRuzglVV3J",
        "outputId": "f02d7836-5556-486b-8ed7-a88466141add"
      },
      "execution_count": 20,
      "outputs": [
        {
          "output_type": "stream",
          "name": "stdout",
          "text": [
            "Training with batch size 32...\n",
            "Epoch 1/10\n",
            "1875/1875 [==============================] - 8s 4ms/step - loss: 0.2578 - accuracy: 0.9269 - val_loss: 0.1376 - val_accuracy: 0.9593\n",
            "Epoch 2/10\n",
            "1875/1875 [==============================] - 6s 3ms/step - loss: 0.1150 - accuracy: 0.9663 - val_loss: 0.1066 - val_accuracy: 0.9686\n",
            "Epoch 3/10\n",
            "1875/1875 [==============================] - 7s 4ms/step - loss: 0.0788 - accuracy: 0.9764 - val_loss: 0.0846 - val_accuracy: 0.9727\n",
            "Epoch 4/10\n",
            "1875/1875 [==============================] - 7s 3ms/step - loss: 0.0594 - accuracy: 0.9819 - val_loss: 0.0781 - val_accuracy: 0.9753\n",
            "Epoch 5/10\n",
            "1875/1875 [==============================] - 8s 4ms/step - loss: 0.0455 - accuracy: 0.9860 - val_loss: 0.0819 - val_accuracy: 0.9744\n",
            "Epoch 6/10\n",
            "1875/1875 [==============================] - 6s 3ms/step - loss: 0.0359 - accuracy: 0.9890 - val_loss: 0.0823 - val_accuracy: 0.9740\n",
            "Epoch 7/10\n",
            "1875/1875 [==============================] - 8s 4ms/step - loss: 0.0286 - accuracy: 0.9910 - val_loss: 0.0880 - val_accuracy: 0.9744\n",
            "Epoch 8/10\n",
            "1875/1875 [==============================] - 6s 3ms/step - loss: 0.0228 - accuracy: 0.9930 - val_loss: 0.0803 - val_accuracy: 0.9773\n",
            "Epoch 9/10\n",
            "1875/1875 [==============================] - 7s 4ms/step - loss: 0.0183 - accuracy: 0.9944 - val_loss: 0.0835 - val_accuracy: 0.9771\n",
            "Epoch 10/10\n",
            "1875/1875 [==============================] - 8s 4ms/step - loss: 0.0167 - accuracy: 0.9949 - val_loss: 0.0873 - val_accuracy: 0.9768\n",
            "313/313 [==============================] - 1s 2ms/step - loss: 0.0873 - accuracy: 0.9768\n",
            "Test accuracy with batch size 32: 97.68%\n",
            "\n",
            "==================================================\n",
            "\n",
            "Training with batch size 64...\n",
            "Epoch 1/10\n",
            "938/938 [==============================] - 5s 4ms/step - loss: 0.3036 - accuracy: 0.9151 - val_loss: 0.1678 - val_accuracy: 0.9511\n",
            "Epoch 2/10\n",
            "938/938 [==============================] - 4s 4ms/step - loss: 0.1401 - accuracy: 0.9594 - val_loss: 0.1176 - val_accuracy: 0.9653\n",
            "Epoch 3/10\n",
            "938/938 [==============================] - 6s 6ms/step - loss: 0.0984 - accuracy: 0.9710 - val_loss: 0.1023 - val_accuracy: 0.9688\n",
            "Epoch 4/10\n",
            "938/938 [==============================] - 4s 5ms/step - loss: 0.0754 - accuracy: 0.9771 - val_loss: 0.0854 - val_accuracy: 0.9736\n",
            "Epoch 5/10\n",
            "938/938 [==============================] - 4s 5ms/step - loss: 0.0593 - accuracy: 0.9820 - val_loss: 0.0761 - val_accuracy: 0.9768\n",
            "Epoch 6/10\n",
            "938/938 [==============================] - 4s 5ms/step - loss: 0.0476 - accuracy: 0.9861 - val_loss: 0.0773 - val_accuracy: 0.9760\n",
            "Epoch 7/10\n",
            "938/938 [==============================] - 4s 4ms/step - loss: 0.0392 - accuracy: 0.9883 - val_loss: 0.0800 - val_accuracy: 0.9759\n",
            "Epoch 8/10\n",
            "938/938 [==============================] - 4s 4ms/step - loss: 0.0320 - accuracy: 0.9904 - val_loss: 0.0709 - val_accuracy: 0.9794\n",
            "Epoch 9/10\n",
            "938/938 [==============================] - 5s 5ms/step - loss: 0.0262 - accuracy: 0.9923 - val_loss: 0.0790 - val_accuracy: 0.9769\n",
            "Epoch 10/10\n",
            "938/938 [==============================] - 4s 4ms/step - loss: 0.0217 - accuracy: 0.9937 - val_loss: 0.0744 - val_accuracy: 0.9784\n",
            "313/313 [==============================] - 1s 2ms/step - loss: 0.0744 - accuracy: 0.9784\n",
            "Test accuracy with batch size 64: 97.84%\n",
            "\n",
            "==================================================\n",
            "\n",
            "Training with batch size 128...\n",
            "Epoch 1/10\n",
            "469/469 [==============================] - 3s 5ms/step - loss: 0.3549 - accuracy: 0.9015 - val_loss: 0.1932 - val_accuracy: 0.9443\n",
            "Epoch 2/10\n",
            "469/469 [==============================] - 2s 4ms/step - loss: 0.1634 - accuracy: 0.9539 - val_loss: 0.1453 - val_accuracy: 0.9569\n",
            "Epoch 3/10\n",
            "469/469 [==============================] - 2s 4ms/step - loss: 0.1161 - accuracy: 0.9667 - val_loss: 0.1107 - val_accuracy: 0.9667\n",
            "Epoch 4/10\n",
            "469/469 [==============================] - 2s 5ms/step - loss: 0.0892 - accuracy: 0.9743 - val_loss: 0.0953 - val_accuracy: 0.9719\n",
            "Epoch 5/10\n",
            "469/469 [==============================] - 2s 5ms/step - loss: 0.0733 - accuracy: 0.9788 - val_loss: 0.0840 - val_accuracy: 0.9742\n",
            "Epoch 6/10\n",
            "469/469 [==============================] - 3s 6ms/step - loss: 0.0601 - accuracy: 0.9830 - val_loss: 0.0782 - val_accuracy: 0.9754\n",
            "Epoch 7/10\n",
            "469/469 [==============================] - 2s 5ms/step - loss: 0.0504 - accuracy: 0.9855 - val_loss: 0.0782 - val_accuracy: 0.9750\n",
            "Epoch 8/10\n",
            "469/469 [==============================] - 2s 5ms/step - loss: 0.0424 - accuracy: 0.9879 - val_loss: 0.0716 - val_accuracy: 0.9768\n",
            "Epoch 9/10\n",
            "469/469 [==============================] - 2s 4ms/step - loss: 0.0364 - accuracy: 0.9898 - val_loss: 0.0704 - val_accuracy: 0.9773\n",
            "Epoch 10/10\n",
            "469/469 [==============================] - 2s 4ms/step - loss: 0.0315 - accuracy: 0.9912 - val_loss: 0.0686 - val_accuracy: 0.9799\n",
            "313/313 [==============================] - 1s 2ms/step - loss: 0.0686 - accuracy: 0.9799\n",
            "Test accuracy with batch size 128: 97.99%\n",
            "\n",
            "==================================================\n",
            "\n",
            "Training with batch size 256...\n",
            "Epoch 1/10\n",
            "235/235 [==============================] - 3s 9ms/step - loss: 0.4421 - accuracy: 0.8801 - val_loss: 0.2311 - val_accuracy: 0.9354\n",
            "Epoch 2/10\n",
            "235/235 [==============================] - 1s 6ms/step - loss: 0.2040 - accuracy: 0.9434 - val_loss: 0.1660 - val_accuracy: 0.9522\n",
            "Epoch 3/10\n",
            "235/235 [==============================] - 1s 6ms/step - loss: 0.1516 - accuracy: 0.9574 - val_loss: 0.1366 - val_accuracy: 0.9600\n",
            "Epoch 4/10\n",
            "235/235 [==============================] - 1s 6ms/step - loss: 0.1218 - accuracy: 0.9657 - val_loss: 0.1163 - val_accuracy: 0.9661\n",
            "Epoch 5/10\n",
            "235/235 [==============================] - 1s 6ms/step - loss: 0.1009 - accuracy: 0.9715 - val_loss: 0.1048 - val_accuracy: 0.9693\n",
            "Epoch 6/10\n",
            "235/235 [==============================] - 1s 6ms/step - loss: 0.0853 - accuracy: 0.9758 - val_loss: 0.0968 - val_accuracy: 0.9714\n",
            "Epoch 7/10\n",
            "235/235 [==============================] - 1s 6ms/step - loss: 0.0744 - accuracy: 0.9786 - val_loss: 0.0901 - val_accuracy: 0.9740\n",
            "Epoch 8/10\n",
            "235/235 [==============================] - 1s 6ms/step - loss: 0.0638 - accuracy: 0.9817 - val_loss: 0.0839 - val_accuracy: 0.9745\n",
            "Epoch 9/10\n",
            "235/235 [==============================] - 2s 9ms/step - loss: 0.0560 - accuracy: 0.9842 - val_loss: 0.0818 - val_accuracy: 0.9758\n",
            "Epoch 10/10\n",
            "235/235 [==============================] - 2s 7ms/step - loss: 0.0492 - accuracy: 0.9866 - val_loss: 0.0779 - val_accuracy: 0.9769\n",
            "313/313 [==============================] - 1s 2ms/step - loss: 0.0779 - accuracy: 0.9769\n",
            "Test accuracy with batch size 256: 97.69%\n",
            "\n",
            "==================================================\n",
            "\n"
          ]
        }
      ]
    },
    {
      "cell_type": "markdown",
      "source": [
        "Q2: Discuss the advantages and potential limitations of batch normalization in improving the training of neural networks:\n",
        "\n",
        "# Advantages of Batch Normalization (BN):\n",
        "\n",
        "**Stability and Faster Convergence:** BN mitigates the vanishing/exploding gradient problem, making training more stable. Networks with BN often converge faster and require fewer epochs to reach a good level of performance.\n",
        "\n",
        "**Improved Generalization:** BN acts as a form of regularization, reducing the risk of overfitting. It allows for the use of higher learning rates, which can lead to better generalization.\n",
        "\n",
        "**Less Sensitive to Initialization:** Models with BN are less sensitive to the choice of initial weights, making it easier to initialize deep networks.\n",
        "\n",
        "**Reduced Internal Covariate Shift:** BN normalizes activations, ensuring that they have consistent distributions during training, which helps gradients flow smoothly through the network.\n",
        "\n",
        "Allows for Deeper Networks: BN enables the training of very deep neural networks, which can capture more complex patterns in the data.\n",
        "\n",
        "# Potential Limitations and Considerations:\n",
        "\n",
        "**Increased Computational Overhead:** BN introduces additional computations during training, which can slightly slow down each training iteration.\n",
        "\n",
        "**Batch Size Sensitivity:** The effectiveness of BN can be influenced by the batch size used during training. Smaller batch sizes may lead to less effective batch normalization.\n",
        "\n",
        "**Not Always Necessary:** While BN is beneficial in many cases, it might not be needed for every model or dataset. Simpler models or datasets with well-behaved distributions may not benefit significantly from BN.\n",
        "\n",
        "**Test-Time Behavior:** During inference, BN uses running averages of statistics. This may not perfectly capture the distribution of activations in some cases, potentially affecting performance.\n",
        "\n",
        "**Additional Hyperparameters:** BN introduces two learnable parameters (γ and β) per normalized layer. Proper initialization and tuning of these parameters are important for optimal performance."
      ],
      "metadata": {
        "id": "UnXTK7KFVe2C"
      }
    }
  ]
}