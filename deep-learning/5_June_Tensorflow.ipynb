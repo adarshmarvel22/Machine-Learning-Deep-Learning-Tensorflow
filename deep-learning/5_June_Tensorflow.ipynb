{
  "cells": [
    {
      "cell_type": "markdown",
      "metadata": {
        "id": "TC8HBd9kQdEH"
      },
      "source": [
        "# ans 1\n",
        "1. TensorFlow offers several data structures for managing and manipulating data, primarily tensors, which are multi-dimensional arrays. Some of the commonly used data structures in TensorFlow include:\n",
        "\n",
        "   - **Tensors**: Tensors are the fundamental data structure in TensorFlow, similar to multi-dimensional arrays. They can have different ranks (0D scalar, 1D vector, 2D matrix, etc.) and are used for storing and manipulating data. Examples include:\n",
        "\n",
        "     ```python\n",
        "     import tensorflow as tf\n",
        "\n",
        "     scalar = tf.constant(5)  # 0D tensor\n",
        "     vector = tf.constant([1, 2, 3])  # 1D tensor\n",
        "     matrix = tf.constant([[1, 2], [3, 4]])  # 2D tensor\n",
        "     ```\n",
        "\n",
        "   - **Variables**: TensorFlow variables are used to hold and update trainable parameters in machine learning models. They have an initial value and can change during training. Example:\n",
        "\n",
        "     ```python\n",
        "     weight = tf.Variable(initial_value=tf.random.normal((3, 3)))\n",
        "     ```\n",
        "\n",
        "   - **Sparse Tensors**: Sparse tensors are used to efficiently represent tensors with a significant number of zero values, often encountered in tasks like natural language processing.\n",
        "\n",
        "   - **Ragged Tensors**: Ragged tensors are used for sequences of variable-length data, like sequences of words with different lengths in NLP.\n",
        "\n",
        "   - **TensorArray**: A dynamic-sized array that can store tensors of varying shapes and sizes.\n",
        "\n",
        "# ans 2\n",
        "2. TensorFlow Constant vs. TensorFlow Variable:\n",
        "\n",
        "   - **TensorFlow Constant**: Constants are tensors whose values cannot change during the execution of a TensorFlow program. They are typically used for fixed values like hyperparameters or input data. Once defined, their values remain constant throughout the execution. Example:\n",
        "\n",
        "     ```python\n",
        "     import tensorflow as tf\n",
        "\n",
        "     const_value = tf.constant(5.0)\n",
        "     ```\n",
        "\n",
        "   - **TensorFlow Variable**: Variables are tensors that can change their values during training. They are used to store model parameters and gradients that need to be updated and optimized during the training process. Example:\n",
        "\n",
        "     ```python\n",
        "     import tensorflow as tf\n",
        "\n",
        "     initial_value = tf.random.normal((3, 3))\n",
        "     variable = tf.Variable(initial_value)\n",
        "     ```\n",
        "\n",
        "\n",
        "# ans 3\n",
        "3. Matrix Addition, Multiplication, and Elementwise Operations in TensorFlow:\n",
        "\n",
        "   - **Matrix Addition**:\n",
        "     To perform matrix addition in TensorFlow, you can simply use the `tf.add` function or the `+` operator:\n",
        "\n",
        "     ```python\n",
        "     import tensorflow as tf\n",
        "\n",
        "     matrix_a = tf.constant([[1, 2], [3, 4]])\n",
        "     matrix_b = tf.constant([[5, 6], [7, 8]])\n",
        "\n",
        "     result = tf.add(matrix_a, matrix_b)  # or result = matrix_a + matrix_b\n",
        "     ```\n",
        "\n",
        "   - **Matrix Multiplication**:\n",
        "     To perform matrix multiplication in TensorFlow, you can use the `tf.matmul` function or the `@` operator (Python 3.5+):\n",
        "\n",
        "     ```python\n",
        "     import tensorflow as tf\n",
        "\n",
        "     matrix_a = tf.constant([[1, 2], [3, 4]])\n",
        "     matrix_b = tf.constant([[5, 6], [7, 8]])\n",
        "\n",
        "     result = tf.matmul(matrix_a, matrix_b)  # or result = matrix_a @ matrix_b\n",
        "     ```\n",
        "\n",
        "   - **Elementwise Operations**:\n",
        "     Elementwise operations are operations performed element by element between two tensors of the same shape. You can use standard mathematical operators like `tf.add`, `tf.subtract`, `tf.multiply`, and `tf.divide` for elementwise operations:\n",
        "\n",
        "     ```python\n",
        "     import tensorflow as tf\n",
        "\n",
        "     tensor_a = tf.constant([1, 2, 3])\n",
        "     tensor_b = tf.constant([4, 5, 6])\n",
        "\n",
        "     result_add = tf.add(tensor_a, tensor_b)\n",
        "     result_subtract = tf.subtract(tensor_a, tensor_b)\n",
        "     result_multiply = tf.multiply(tensor_a, tensor_b)\n",
        "     result_divide = tf.divide(tensor_a, tensor_b)\n",
        "     ```\n",
        "\n",
        "     These operations are applied elementwise, meaning each element in the output tensor is the result of applying the operation to the corresponding elements in the input tensors."
      ]
    },
    {
      "cell_type": "markdown",
      "metadata": {
        "id": "7HVYInkJQ-49"
      },
      "source": [
        "# Taks 1"
      ]
    },
    {
      "cell_type": "code",
      "execution_count": 2,
      "metadata": {
        "colab": {
          "base_uri": "https://localhost:8080/"
        },
        "id": "FY7BTgj_RAJY",
        "outputId": "5e648d46-ef0a-4386-e636-bc69691eb34c"
      },
      "outputs": [
        {
          "name": "stdout",
          "output_type": "stream",
          "text": [
            "Matrix A:\n",
            "[[-1.341613   -0.06263287]\n",
            " [ 1.3543245   1.1278253 ]]\n",
            "\n",
            "Matrix B:\n",
            "[[-1.1629131   0.8411579 ]\n",
            " [-1.2390337  -0.44775876]]\n",
            "\n",
            "Matrix C:\n",
            "[[2.1149228 2.1290612]\n",
            " [1.9939756 2.053807 ]]\n",
            "\n",
            "Matrix D (Result of Addition):\n",
            "[[-2.5045261   0.77852505]\n",
            " [ 0.11529076  0.68006647]]\n",
            "\n",
            "Matrix E (Result of Multiplication):\n",
            "[[-5.0514183  3.0944235]\n",
            " [-4.7571793  2.9490852]]\n"
          ]
        }
      ],
      "source": [
        "import tensorflow as tf\n",
        "\n",
        "# 1. Create a normal matrix A with dimensions 2x2 using random_normal\n",
        "matrix_A = tf.random.normal(shape=(2, 2), mean=0.0, stddev=1.0)\n",
        "print(\"Matrix A:\")\n",
        "print(matrix_A.numpy())\n",
        "\n",
        "# 2. Create a Gaussian matrix B with dimensions 2x2 using truncated_normal\n",
        "matrix_B = tf.random.truncated_normal(shape=(2, 2), mean=0.0, stddev=1.0)\n",
        "print(\"\\nMatrix B:\")\n",
        "print(matrix_B.numpy())\n",
        "\n",
        "# 3. Create a matrix C with dimensions 2x2 using random.normal\n",
        "mean = 2.0\n",
        "stddev = 0.1  # You can adjust the standard deviation (0.x) as needed\n",
        "matrix_C = tf.random.normal(shape=(2, 2), mean=mean, stddev=stddev)\n",
        "print(\"\\nMatrix C:\")\n",
        "print(matrix_C.numpy())\n",
        "\n",
        "# 4. Perform matrix addition between matrix A and matrix B to get matrix D\n",
        "matrix_D = tf.add(matrix_A, matrix_B)\n",
        "print(\"\\nMatrix D (Result of Addition):\")\n",
        "print(matrix_D.numpy())\n",
        "\n",
        "# 5. Perform matrix multiplication between matrix C and matrix D to get matrix E\n",
        "matrix_E = tf.matmul(matrix_C, matrix_D)\n",
        "print(\"\\nMatrix E (Result of Multiplication):\")\n",
        "print(matrix_E.numpy())"
      ]
    },
    {
      "cell_type": "markdown",
      "metadata": {
        "id": "DU0HYXnrReYZ"
      },
      "source": [
        " # Task 2"
      ]
    },
    {
      "cell_type": "code",
      "execution_count": 3,
      "metadata": {
        "colab": {
          "base_uri": "https://localhost:8080/"
        },
        "id": "-7A7o7_gRgU2",
        "outputId": "c7526a0e-28ad-4915-f209-bf9beec0298c"
      },
      "outputs": [
        {
          "name": "stdout",
          "output_type": "stream",
          "text": [
            "Matrix F:\n",
            "[[0.99016523 0.64997315]\n",
            " [0.26505423 0.17406404]]\n",
            "\n",
            "Matrix G (Transpose of F):\n",
            "[[0.99016523 0.26505423]\n",
            " [0.64997315 0.17406404]]\n",
            "\n",
            "Matrix H (Elementwise Exponential of F):\n",
            "[[2.6916792 1.9154894]\n",
            " [1.3035016 1.1901318]]\n",
            "\n",
            "Matrix I (Horizontal Concatenation of F and G):\n",
            "[[0.99016523 0.64997315 0.99016523 0.26505423]\n",
            " [0.26505423 0.17406404 0.64997315 0.17406404]]\n",
            "\n",
            "Matrix J (Vertical Concatenation of F and H):\n",
            "[[0.99016523 0.64997315]\n",
            " [0.26505423 0.17406404]\n",
            " [2.6916792  1.9154894 ]\n",
            " [1.3035016  1.1901318 ]]\n"
          ]
        }
      ],
      "source": [
        "import tensorflow as tf\n",
        "\n",
        "# 1. Create a matrix F with dimensions 2x2 initialized with random values using random_uniform\n",
        "matrix_F = tf.random.uniform(shape=(2, 2))\n",
        "print(\"Matrix F:\")\n",
        "print(matrix_F.numpy())\n",
        "\n",
        "# 2. Calculate the transpose of matrix F and store the result in matrix G\n",
        "matrix_G = tf.transpose(matrix_F)\n",
        "print(\"\\nMatrix G (Transpose of F):\")\n",
        "print(matrix_G.numpy())\n",
        "\n",
        "# 3. Calculate the elementwise exponential of matrix F and store the result in matrix H\n",
        "matrix_H = tf.exp(matrix_F)\n",
        "print(\"\\nMatrix H (Elementwise Exponential of F):\")\n",
        "print(matrix_H.numpy())\n",
        "\n",
        "# 4. Create a matrix I by concatenating matrix F and matrix G horizontally (axis=1)\n",
        "matrix_I = tf.concat([matrix_F, matrix_G], axis=1)\n",
        "print(\"\\nMatrix I (Horizontal Concatenation of F and G):\")\n",
        "print(matrix_I.numpy())\n",
        "\n",
        "# 5. Create a matrix J by concatenating matrix F and matrix H vertically (axis=0)\n",
        "matrix_J = tf.concat([matrix_F, matrix_H], axis=0)\n",
        "print(\"\\nMatrix J (Vertical Concatenation of F and H):\")\n",
        "print(matrix_J.numpy())"
      ]
    }
  ],
  "metadata": {
    "colab": {
      "provenance": []
    },
    "kernelspec": {
      "display_name": "Python 3",
      "name": "python3"
    },
    "language_info": {
      "name": "python"
    }
  },
  "nbformat": 4,
  "nbformat_minor": 0
}
